{
  "nbformat": 4,
  "nbformat_minor": 0,
  "metadata": {
    "colab": {
      "provenance": []
    },
    "kernelspec": {
      "name": "python3",
      "display_name": "Python 3"
    },
    "language_info": {
      "name": "python"
    }
  },
  "cells": [
    {
      "cell_type": "markdown",
      "source": [
        "# Практическая работа 2"
      ],
      "metadata": {
        "id": "hmtKDG4L0vH0"
      }
    },
    {
      "cell_type": "markdown",
      "source": [
        "**Векторизация**"
      ],
      "metadata": {
        "id": "0p0B1PefEAmj"
      }
    },
    {
      "cell_type": "code",
      "source": [
        "import numpy as np\n",
        "a = np.array([1, 2, 3])\n",
        "b = np.array([4, 5, 6])\n",
        "result = a + b"
      ],
      "metadata": {
        "id": "ZAISEI7W0yQc"
      },
      "execution_count": null,
      "outputs": []
    },
    {
      "cell_type": "markdown",
      "source": [
        "1. Создание массива:"
      ],
      "metadata": {
        "id": "fAxShArpFkir"
      }
    },
    {
      "cell_type": "code",
      "source": [
        "import numpy as np\n",
        "arr = np.array([1, 2, 3, 4])"
      ],
      "metadata": {
        "id": "SLfqTakxCtZk"
      },
      "execution_count": 10,
      "outputs": []
    },
    {
      "cell_type": "markdown",
      "source": [
        "2. Операции с массивами:"
      ],
      "metadata": {
        "id": "cGCK9WKsFnRq"
      }
    },
    {
      "cell_type": "code",
      "source": [
        "arr1 = np.array([1, 2, 3])\n",
        "arr2 = np.array([4, 5, 6])\n",
        "result = arr1 + arr2"
      ],
      "metadata": {
        "id": "4i25G7AtFsgc"
      },
      "execution_count": 9,
      "outputs": []
    },
    {
      "cell_type": "markdown",
      "source": [
        "1. Матричные операции"
      ],
      "metadata": {
        "id": "wWi3MnF0FwHb"
      }
    },
    {
      "cell_type": "code",
      "source": [
        "matrix1 = np.array([[1, 2], [3, 4]])\n",
        "matrix2 = np.array([[5, 6], [7, 8]])\n",
        "result = np.dot(matrix1, matrix2)"
      ],
      "metadata": {
        "id": "Ru2UzWLIFx4r"
      },
      "execution_count": 11,
      "outputs": []
    },
    {
      "cell_type": "markdown",
      "source": [
        "\n",
        "2. Статистические функции:"
      ],
      "metadata": {
        "id": "Jd9FdtBIF0Aj"
      }
    },
    {
      "cell_type": "code",
      "source": [
        "data = np.array([1, 2, 3, 4, 5])\n",
        "mean = np.mean(data)\n",
        "std_dev = np.std(data)"
      ],
      "metadata": {
        "id": "qGEmP-bpF15b"
      },
      "execution_count": 7,
      "outputs": []
    },
    {
      "cell_type": "markdown",
      "source": [
        "**Доступ к элементам массива**"
      ],
      "metadata": {
        "id": "EeqKwyvJF7py"
      }
    },
    {
      "cell_type": "code",
      "source": [
        "import numpy as np\n",
        "m = np.matrix('1 2 3 4; 5 6 7 8; 9 1 5 7')\n",
        "print(m)"
      ],
      "metadata": {
        "colab": {
          "base_uri": "https://localhost:8080/"
        },
        "id": "bMAPO0IoGEsN",
        "outputId": "9a557ed2-7ad5-409a-d16d-a469d4c3ef60"
      },
      "execution_count": 6,
      "outputs": [
        {
          "output_type": "stream",
          "name": "stdout",
          "text": [
            "[[1 2 3 4]\n",
            " [5 6 7 8]\n",
            " [9 1 5 7]]\n"
          ]
        }
      ]
    },
    {
      "cell_type": "markdown",
      "source": [
        "**Расчет статистик по данным в массиве**"
      ],
      "metadata": {
        "id": "OTDFKF9sGW00"
      }
    },
    {
      "cell_type": "code",
      "source": [
        "m = np.matrix('1 2 3 4; 5 6 7 8; 9 1 5 7')\n",
        "m = np.array(m)\n",
        "type(m)"
      ],
      "metadata": {
        "colab": {
          "base_uri": "https://localhost:8080/"
        },
        "id": "bFQb1w8YGa1F",
        "outputId": "4a30ffb7-5efa-4289-c729-4f0351f03c10"
      },
      "execution_count": 5,
      "outputs": [
        {
          "output_type": "execute_result",
          "data": {
            "text/plain": [
              "numpy.ndarray"
            ]
          },
          "metadata": {},
          "execution_count": 5
        }
      ]
    },
    {
      "cell_type": "markdown",
      "source": [
        "**Использование boolean массива для доступа к ndarray**"
      ],
      "metadata": {
        "id": "Pf3_KXOfG64d"
      }
    },
    {
      "cell_type": "code",
      "source": [
        "nums = np.array([1, 2, 3, 4, 5, 6, 7, 8, 9, 10])\n",
        "letters = np.array(['a', 'b', 'c', 'd', 'a', 'e', 'b'])\n",
        "a = True\n",
        "b = 5 > 7\n",
        "print(b)"
      ],
      "metadata": {
        "colab": {
          "base_uri": "https://localhost:8080/"
        },
        "id": "cGarYK35HG0c",
        "outputId": "94728912-dfc9-46d5-c8a1-d7785a6f8635"
      },
      "execution_count": 4,
      "outputs": [
        {
          "output_type": "stream",
          "name": "stdout",
          "text": [
            "False\n"
          ]
        }
      ]
    },
    {
      "cell_type": "markdown",
      "source": [
        "**Дополнительные функции**"
      ],
      "metadata": {
        "id": "NSapFAZCHbJk"
      }
    },
    {
      "cell_type": "markdown",
      "source": [
        "Функция np.arange()"
      ],
      "metadata": {
        "id": "td575JXgHgKj"
      }
    },
    {
      "cell_type": "code",
      "source": [
        "np.arange(10)"
      ],
      "metadata": {
        "colab": {
          "base_uri": "https://localhost:8080/"
        },
        "id": "tac3I7YjHekc",
        "outputId": "a845af43-1af8-4a4f-bc2d-4262c23bf909"
      },
      "execution_count": 12,
      "outputs": [
        {
          "output_type": "execute_result",
          "data": {
            "text/plain": [
              "array([0, 1, 2, 3, 4, 5, 6, 7, 8, 9])"
            ]
          },
          "metadata": {},
          "execution_count": 12
        }
      ]
    },
    {
      "cell_type": "markdown",
      "source": [
        "Функция np.matrix()"
      ],
      "metadata": {
        "id": "dKbHORO6HuOH"
      }
    },
    {
      "cell_type": "code",
      "source": [
        "a = [[1, 2], [3, 4]]\n",
        "np.matrix(a)"
      ],
      "metadata": {
        "colab": {
          "base_uri": "https://localhost:8080/"
        },
        "id": "1V0r9NpBHyOV",
        "outputId": "b47302d6-e581-4f7c-f048-188e928fdeeb"
      },
      "execution_count": 13,
      "outputs": [
        {
          "output_type": "execute_result",
          "data": {
            "text/plain": [
              "matrix([[1, 2],\n",
              "        [3, 4]])"
            ]
          },
          "metadata": {},
          "execution_count": 13
        }
      ]
    },
    {
      "cell_type": "markdown",
      "source": [
        "Функции np.zeros(), np.eye()"
      ],
      "metadata": {
        "id": "Vs6p8o_AH5wd"
      }
    },
    {
      "cell_type": "code",
      "source": [
        "np.zeros((3, 4))"
      ],
      "metadata": {
        "colab": {
          "base_uri": "https://localhost:8080/"
        },
        "id": "Ikc9wb_5H8qs",
        "outputId": "a0f745bd-65b1-46fa-a903-558dd9e62bfc"
      },
      "execution_count": 14,
      "outputs": [
        {
          "output_type": "execute_result",
          "data": {
            "text/plain": [
              "array([[0., 0., 0., 0.],\n",
              "       [0., 0., 0., 0.],\n",
              "       [0., 0., 0., 0.]])"
            ]
          },
          "metadata": {},
          "execution_count": 14
        }
      ]
    },
    {
      "cell_type": "code",
      "source": [
        "np.eye(3)"
      ],
      "metadata": {
        "colab": {
          "base_uri": "https://localhost:8080/"
        },
        "id": "Pny2N1I3IAS1",
        "outputId": "b9a42572-bdfb-49b5-c09b-d886fc2a77fa"
      },
      "execution_count": 15,
      "outputs": [
        {
          "output_type": "execute_result",
          "data": {
            "text/plain": [
              "array([[1., 0., 0.],\n",
              "       [0., 1., 0.],\n",
              "       [0., 0., 1.]])"
            ]
          },
          "metadata": {},
          "execution_count": 15
        }
      ]
    },
    {
      "cell_type": "markdown",
      "source": [
        "Функция np.ravel()"
      ],
      "metadata": {
        "id": "ad3Th-wEIBxk"
      }
    },
    {
      "cell_type": "code",
      "source": [
        "A = np.array([[1, 2, 3], [4, 5, 6], [7, 8, 9]])\n",
        "A"
      ],
      "metadata": {
        "colab": {
          "base_uri": "https://localhost:8080/"
        },
        "id": "Pk_MJQ3dIGG2",
        "outputId": "63bba05e-4137-4335-e9f5-6172eab57640"
      },
      "execution_count": 16,
      "outputs": [
        {
          "output_type": "execute_result",
          "data": {
            "text/plain": [
              "array([[1, 2, 3],\n",
              "       [4, 5, 6],\n",
              "       [7, 8, 9]])"
            ]
          },
          "metadata": {},
          "execution_count": 16
        }
      ]
    },
    {
      "cell_type": "markdown",
      "source": [
        "Функция np.where()"
      ],
      "metadata": {
        "id": "eKz01L3tILEc"
      }
    },
    {
      "cell_type": "code",
      "source": [
        "a = np.array([0, 1, 2, 3, 4, 5, 6, 7, 8, 9])\n",
        "np.where(a % 2 == 0, a * 10, a / 10)"
      ],
      "metadata": {
        "colab": {
          "base_uri": "https://localhost:8080/"
        },
        "id": "OAbzU2zSIPcD",
        "outputId": "d8a27754-e05b-4ed0-f58b-a39d79a792b0"
      },
      "execution_count": 18,
      "outputs": [
        {
          "output_type": "execute_result",
          "data": {
            "text/plain": [
              "array([ 0. ,  0.1, 20. ,  0.3, 40. ,  0.5, 60. ,  0.7, 80. ,  0.9])"
            ]
          },
          "metadata": {},
          "execution_count": 18
        }
      ]
    },
    {
      "cell_type": "markdown",
      "source": [
        "Функция np.meshgrid()"
      ],
      "metadata": {
        "id": "5dGfEOMUITh9"
      }
    },
    {
      "cell_type": "code",
      "source": [
        "x = np.linspace(0, 1, 5)\n",
        "x\n",
        "y = np.linspace(0, 2, 5)\n",
        "y\n",
        "xg, yg = np.meshgrid(x, y)\n",
        "xg"
      ],
      "metadata": {
        "colab": {
          "base_uri": "https://localhost:8080/"
        },
        "id": "ldHcZBwZIWcb",
        "outputId": "f06a03e2-2ecf-40c8-ef3b-046914852385"
      },
      "execution_count": 20,
      "outputs": [
        {
          "output_type": "execute_result",
          "data": {
            "text/plain": [
              "array([[0.  , 0.25, 0.5 , 0.75, 1.  ],\n",
              "       [0.  , 0.25, 0.5 , 0.75, 1.  ],\n",
              "       [0.  , 0.25, 0.5 , 0.75, 1.  ],\n",
              "       [0.  , 0.25, 0.5 , 0.75, 1.  ],\n",
              "       [0.  , 0.25, 0.5 , 0.75, 1.  ]])"
            ]
          },
          "metadata": {},
          "execution_count": 20
        }
      ]
    },
    {
      "cell_type": "code",
      "source": [
        "import matplotlib.pyplot as plt\n",
        "%matplotlib inline\n",
        "plt.plot(xg, yg, color=\"r\", marker=\"*\", linestyle=\"none\")"
      ],
      "metadata": {
        "colab": {
          "base_uri": "https://localhost:8080/",
          "height": 517
        },
        "id": "JgFNIEc9Ibcs",
        "outputId": "1ef004d6-344c-4190-a0c9-598b32e62075"
      },
      "execution_count": 23,
      "outputs": [
        {
          "output_type": "execute_result",
          "data": {
            "text/plain": [
              "[<matplotlib.lines.Line2D at 0x7e9b652ce350>,\n",
              " <matplotlib.lines.Line2D at 0x7e9b652ce4d0>,\n",
              " <matplotlib.lines.Line2D at 0x7e9b6529eb90>,\n",
              " <matplotlib.lines.Line2D at 0x7e9b652ce290>,\n",
              " <matplotlib.lines.Line2D at 0x7e9b652cefd0>]"
            ]
          },
          "metadata": {},
          "execution_count": 23
        },
        {
          "output_type": "display_data",
          "data": {
            "text/plain": [
              "<Figure size 640x480 with 1 Axes>"
            ],
            "image/png": "[encoded data removed]"
          },
          "metadata": {}
        }
      ]
    },
    {
      "cell_type": "markdown",
      "source": [
        "Функция np.random.permutation()"
      ],
      "metadata": {
        "id": "xEVx0fxyI3a2"
      }
    },
    {
      "cell_type": "code",
      "source": [
        "np.random.permutation(7)\n",
        "a = ['a', 'b', 'c', 'd', 'e']\n",
        "np.random.permutation(a)"
      ],
      "metadata": {
        "colab": {
          "base_uri": "https://localhost:8080/"
        },
        "id": "giiLs01fI7OE",
        "outputId": "ed967844-3526-488a-9dc6-ac3029639cb1"
      },
      "execution_count": 24,
      "outputs": [
        {
          "output_type": "execute_result",
          "data": {
            "text/plain": [
              "array(['a', 'b', 'd', 'e', 'c'], dtype='<U1')"
            ]
          },
          "metadata": {},
          "execution_count": 24
        }
      ]
    },
    {
      "cell_type": "markdown",
      "source": [
        "**Матрицы**"
      ],
      "metadata": {
        "id": "EeW3CVSqJG8-"
      }
    },
    {
      "cell_type": "code",
      "source": [
        "import numpy as np\n",
        "v_hor_np = np.array([1, 2])\n",
        "print(v_hor_np )"
      ],
      "metadata": {
        "colab": {
          "base_uri": "https://localhost:8080/"
        },
        "id": "yzx3OXscJH5L",
        "outputId": "93a27b89-c041-4c69-bd59-fc73f14c6e30"
      },
      "execution_count": 25,
      "outputs": [
        {
          "output_type": "stream",
          "name": "stdout",
          "text": [
            "[1 2]\n"
          ]
        }
      ]
    },
    {
      "cell_type": "markdown",
      "source": [
        "Квадратная матрица"
      ],
      "metadata": {
        "id": "Hv1jEBYJJRJG"
      }
    },
    {
      "cell_type": "code",
      "source": [
        "m_sqr_arr = np.array([[1, 2, 3], [4, 5, 6], [7, 8, 9]])\n",
        "print(m_sqr_arr)"
      ],
      "metadata": {
        "colab": {
          "base_uri": "https://localhost:8080/"
        },
        "id": "trNMp5uRJTKE",
        "outputId": "17598326-188d-4a01-f9aa-d6d5e2449ad9"
      },
      "execution_count": 26,
      "outputs": [
        {
          "output_type": "stream",
          "name": "stdout",
          "text": [
            "[[1 2 3]\n",
            " [4 5 6]\n",
            " [7 8 9]]\n"
          ]
        }
      ]
    },
    {
      "cell_type": "markdown",
      "source": [
        "Диагональная матрица"
      ],
      "metadata": {
        "id": "f8APXhfqJZX-"
      }
    },
    {
      "cell_type": "code",
      "source": [
        "m_diag = [[1, 0, 0], [0, 5, 0], [0, 0, 9]]\n",
        "m_diag_np = np.matrix(m_diag)\n",
        "print(m_diag_np)"
      ],
      "metadata": {
        "colab": {
          "base_uri": "https://localhost:8080/"
        },
        "id": "l-GFmc_pJbFc",
        "outputId": "10db742f-f71e-4ca1-c2c7-50a677caf39b"
      },
      "execution_count": 27,
      "outputs": [
        {
          "output_type": "stream",
          "name": "stdout",
          "text": [
            "[[1 0 0]\n",
            " [0 5 0]\n",
            " [0 0 9]]\n"
          ]
        }
      ]
    },
    {
      "cell_type": "markdown",
      "source": [
        "Единичная матрица"
      ],
      "metadata": {
        "id": "X7G8h8gUJiZG"
      }
    },
    {
      "cell_type": "code",
      "source": [
        "m_e = [[1, 0, 0], [0, 1, 0], [0, 0, 1]]\n",
        "m_e_np = np.matrix(m_e)\n",
        "print(m_e_np)"
      ],
      "metadata": {
        "colab": {
          "base_uri": "https://localhost:8080/"
        },
        "id": "Bpt-qvcKJkOF",
        "outputId": "05f8d3f4-04d2-401d-ae1d-defeef21d83c"
      },
      "execution_count": 28,
      "outputs": [
        {
          "output_type": "stream",
          "name": "stdout",
          "text": [
            "[[1 0 0]\n",
            " [0 1 0]\n",
            " [0 0 1]]\n"
          ]
        }
      ]
    },
    {
      "cell_type": "markdown",
      "source": [
        "Нулевая матрица"
      ],
      "metadata": {
        "id": "E8n90ql5Jqo_"
      }
    },
    {
      "cell_type": "code",
      "source": [
        "m_zeros = np.zeros((3, 3))\n",
        "print(m_zeros)"
      ],
      "metadata": {
        "colab": {
          "base_uri": "https://localhost:8080/"
        },
        "id": "J1mPl8VJJsJt",
        "outputId": "dca44179-ca60-476a-82f0-7b547a869c89"
      },
      "execution_count": 30,
      "outputs": [
        {
          "output_type": "stream",
          "name": "stdout",
          "text": [
            "[[0. 0. 0.]\n",
            " [0. 0. 0.]\n",
            " [0. 0. 0.]]\n"
          ]
        }
      ]
    },
    {
      "cell_type": "markdown",
      "source": [
        "Транспонирование матрицы"
      ],
      "metadata": {
        "id": "_uqssFYSJ1r2"
      }
    },
    {
      "cell_type": "code",
      "source": [
        "A = np.matrix('1 2 3; 4 5 6')\n",
        "A_t = A.transpose()\n",
        "print(A_t)"
      ],
      "metadata": {
        "colab": {
          "base_uri": "https://localhost:8080/"
        },
        "id": "aeFsHGrnJ4Wu",
        "outputId": "008962e0-b28f-420c-c47d-6824cbcbeb5c"
      },
      "execution_count": 33,
      "outputs": [
        {
          "output_type": "stream",
          "name": "stdout",
          "text": [
            "[[1 4]\n",
            " [2 5]\n",
            " [3 6]]\n"
          ]
        }
      ]
    },
    {
      "cell_type": "markdown",
      "source": [
        "Действия над матрицами"
      ],
      "metadata": {
        "id": "ZuGmt4wGKCpu"
      }
    },
    {
      "cell_type": "code",
      "source": [
        "A = np.matrix('1 2 3; 4 5 6')\n",
        "C = 3 * A\n",
        "print(C)"
      ],
      "metadata": {
        "colab": {
          "base_uri": "https://localhost:8080/"
        },
        "id": "3Abq2MPvKFol",
        "outputId": "2a1aa2e3-4966-4fb7-edf7-777e081e192b"
      },
      "execution_count": 34,
      "outputs": [
        {
          "output_type": "stream",
          "name": "stdout",
          "text": [
            "[[ 3  6  9]\n",
            " [12 15 18]]\n"
          ]
        }
      ]
    },
    {
      "cell_type": "code",
      "source": [
        "A = np.matrix('1 2; 3 4')\n",
        "L = 1 * A\n",
        "R = A\n",
        "print(L)\n",
        "print(R)"
      ],
      "metadata": {
        "colab": {
          "base_uri": "https://localhost:8080/"
        },
        "id": "yEwDn7lJKJkY",
        "outputId": "be7e319f-6de5-4707-b6af-8be83ef452ee"
      },
      "execution_count": 35,
      "outputs": [
        {
          "output_type": "stream",
          "name": "stdout",
          "text": [
            "[[1 2]\n",
            " [3 4]]\n",
            "[[1 2]\n",
            " [3 4]]\n"
          ]
        }
      ]
    },
    {
      "cell_type": "markdown",
      "source": [
        "Сложение матриц"
      ],
      "metadata": {
        "id": "KGgWY31XKRB_"
      }
    },
    {
      "cell_type": "code",
      "source": [
        "A = np.matrix('1 6 3; 8 2 7')\n",
        "B = np.matrix('8 1 5; 6 9 12')\n",
        "C = A + B\n",
        "print(C)"
      ],
      "metadata": {
        "colab": {
          "base_uri": "https://localhost:8080/"
        },
        "id": "XRgrZSFwKT9X",
        "outputId": "18df174a-9a8f-4d50-f727-f34d56e93f1d"
      },
      "execution_count": 36,
      "outputs": [
        {
          "output_type": "stream",
          "name": "stdout",
          "text": [
            "[[ 9  7  8]\n",
            " [14 11 19]]\n"
          ]
        }
      ]
    },
    {
      "cell_type": "markdown",
      "source": [
        "Умножение матриц"
      ],
      "metadata": {
        "id": "-MCyVc8oKY0f"
      }
    },
    {
      "cell_type": "code",
      "source": [
        "A = np.matrix('1 2 3; 4 5 6')\n",
        "B = np.matrix('7 8; 9 1; 2 3')\n",
        "C = A.dot(B)\n",
        "print(C)"
      ],
      "metadata": {
        "colab": {
          "base_uri": "https://localhost:8080/"
        },
        "id": "zyN5A5JMKbvm",
        "outputId": "04783b86-aa4e-4590-d656-fcf2bd3b3c1d"
      },
      "execution_count": 37,
      "outputs": [
        {
          "output_type": "stream",
          "name": "stdout",
          "text": [
            "[[31 19]\n",
            " [85 55]]\n"
          ]
        }
      ]
    },
    {
      "cell_type": "markdown",
      "source": [
        "Определитель матрицы"
      ],
      "metadata": {
        "id": "a3Tp5lwhKhEf"
      }
    },
    {
      "cell_type": "code",
      "source": [
        "A = np.matrix('-4 -1 2; 10 4 -1; 8 3 1')\n",
        "np.linalg.det(A)"
      ],
      "metadata": {
        "colab": {
          "base_uri": "https://localhost:8080/"
        },
        "id": "VN8p1clVKjEl",
        "outputId": "a029fe42-cd02-48f2-9015-d4e5352b2c9a"
      },
      "execution_count": 39,
      "outputs": [
        {
          "output_type": "execute_result",
          "data": {
            "text/plain": [
              "np.float64(-14.000000000000009)"
            ]
          },
          "metadata": {},
          "execution_count": 39
        }
      ]
    },
    {
      "cell_type": "markdown",
      "source": [
        "Ранг матрицы"
      ],
      "metadata": {
        "id": "kSHSCQzzLBge"
      }
    },
    {
      "cell_type": "code",
      "source": [
        "m_eye = np.eye(4)\n",
        "rank = np.linalg.matrix_rank(m_eye)\n",
        "print(rank)"
      ],
      "metadata": {
        "colab": {
          "base_uri": "https://localhost:8080/"
        },
        "id": "lFxW9BGTLCyU",
        "outputId": "57d264a3-8bd4-449f-fac4-cac353768e75"
      },
      "execution_count": 40,
      "outputs": [
        {
          "output_type": "stream",
          "name": "stdout",
          "text": [
            "4\n"
          ]
        }
      ]
    },
    {
      "cell_type": "markdown",
      "source": [
        "**Практическое задание 1**\n",
        "\n",
        "Создайте массив NumPy размером 3*3, содержащий числа от 1 до 9. Умножьте все элементы массива на 2, а затем замените все элементы больше 10 на 0.\n",
        "\n",
        "Выведите итоговый массив"
      ],
      "metadata": {
        "id": "bvY8G9WbLwaG"
      }
    },
    {
      "cell_type": "code",
      "source": [
        "import numpy as np\n",
        "arr = np.arange(1, 10). reshape (3, 3)\n",
        "arr = arr * 2\n",
        "arr [arr > 10] = 0\n",
        "print(arr)"
      ],
      "metadata": {
        "colab": {
          "base_uri": "https://localhost:8080/"
        },
        "id": "cut2b1lrL9NX",
        "outputId": "c4485d52-6515-4fb4-ad0f-04932b4443a8"
      },
      "execution_count": 41,
      "outputs": [
        {
          "output_type": "stream",
          "name": "stdout",
          "text": [
            "[[ 2  4  6]\n",
            " [ 8 10  0]\n",
            " [ 0  0  0]]\n"
          ]
        }
      ]
    },
    {
      "cell_type": "markdown",
      "source": [
        "**Практическое задание 2**\n",
        "\n",
        "Создайте массив NumPy из 20 случайных целых чисел от 1 до 100. Найдите и выведите все элементы, которые делятся на 5 без остатка. Затем замените их на -1 и выведите обновленный массив."
      ],
      "metadata": {
        "id": "3q23Ul-OMDCm"
      }
    },
    {
      "cell_type": "code",
      "source": [
        "import numpy as np\n",
        "arr = np. random. randint (1,101,20)\n",
        "divisible_by_5 = arr[arr % 5 == 0]\n",
        "arr[arr % 5 == 0] = -1\n",
        "print(arr)"
      ],
      "metadata": {
        "colab": {
          "base_uri": "https://localhost:8080/"
        },
        "id": "rhLFXKY3MHJV",
        "outputId": "97e1f6f0-6648-4796-947b-d9d552e0b3c5"
      },
      "execution_count": 42,
      "outputs": [
        {
          "output_type": "stream",
          "name": "stdout",
          "text": [
            "[11 11 58 77  2 83 22 -1 -1  1 -1 96 48 38 48 -1 89 16 28  2]\n"
          ]
        }
      ]
    },
    {
      "cell_type": "markdown",
      "source": [
        "**Приктическое задание 3**\n",
        "\n",
        "Создайте два массива NumPy размером 1*5, заполненные случайными числами от 0 до 50.\n",
        "Объедините эти массивы в один двумерный массив (по строкам).\n",
        "Разделите полученный массив на два массива, каждый из которых содержит 5 элементов.\n",
        "\n",
        "Выведите все промежуточные и итоговые результаты.\n"
      ],
      "metadata": {
        "id": "fzFvSOf4MO_G"
      }
    },
    {
      "cell_type": "code",
      "source": [
        "import numpy as np\n",
        "arr1 = np. random. randint(0, 51, 5). reshape (1, 5)\n",
        "arr2 = np. random.randint(0, 51, 5). reshape(1, 5)\n",
        "print (\"Первый массив: \\n\", arr1)\n",
        "print (\"\\nВторой массив: \\n\", arr2)\n",
        "combined_arr = np. concatenate((arr1, arr2), axis=0)\n",
        "print(\"\\nОбъединенный массив: \\n\", combined_arr)\n",
        "arr3, arr4 = np. split(combined_arr, 2)\n",
        "print (\"\\nПервый разделенный массив: \\n\", arr3)\n",
        "print (\"\\nвторой разделенный массив: \\n\", arr4)"
      ],
      "metadata": {
        "colab": {
          "base_uri": "https://localhost:8080/"
        },
        "id": "EJ8Tj-C9MVnP",
        "outputId": "e9ecfe70-7584-4e88-983d-a5583210da0a"
      },
      "execution_count": 46,
      "outputs": [
        {
          "output_type": "stream",
          "name": "stdout",
          "text": [
            "Первый массив: \n",
            " [[23 25 12 13 39]]\n",
            "\n",
            "Второй массив: \n",
            " [[20  3  7  8  4]]\n",
            "\n",
            "Объединенный массив: \n",
            " [[23 25 12 13 39]\n",
            " [20  3  7  8  4]]\n",
            "\n",
            "Первый разделенный массив: \n",
            " [[23 25 12 13 39]]\n",
            "\n",
            "второй разделенный массив: \n",
            " [[20  3  7  8  4]]\n"
          ]
        }
      ]
    },
    {
      "cell_type": "markdown",
      "source": [
        "**Практическое задание 4**\n",
        "\n",
        "Создайте массив из 50 чисел, равномерно распределенных от -10 до 10.\n",
        "\n",
        "Вычислите сумму всех элементов, сумму положительных элементов и сумму отрицательных элементов. Выведите результаты."
      ],
      "metadata": {
        "id": "YB5hGUVONChg"
      }
    },
    {
      "cell_type": "code",
      "source": [
        "import numpy as np\n",
        "arr = np.linspace(-10, 10, 50)\n",
        "print(\"Исходный массив: \\n\", arr)\n",
        "total_sum = np.sum(arr)\n",
        "print(\"\\nСумма всех элементов:\", total_sum)\n",
        "positive_elements = arr[arr > 0]\n",
        "positive_sum = np.sum (positive_elements)\n",
        "print(\"\\nСумма положительных элементов: \", positive_sum)\n",
        "negative_elements = arr[arr < 0]\n",
        "negative_sum = np. sum (negative_elements)\n",
        "print (\"\\nСумма отрицательных элементов:\", negative_sum)"
      ],
      "metadata": {
        "colab": {
          "base_uri": "https://localhost:8080/"
        },
        "id": "wChuhj2JNG54",
        "outputId": "7935d7b3-c710-4391-ece1-0b3945acc4d6"
      },
      "execution_count": 48,
      "outputs": [
        {
          "output_type": "stream",
          "name": "stdout",
          "text": [
            "Исходный массив: \n",
            " [-10.          -9.59183673  -9.18367347  -8.7755102   -8.36734694\n",
            "  -7.95918367  -7.55102041  -7.14285714  -6.73469388  -6.32653061\n",
            "  -5.91836735  -5.51020408  -5.10204082  -4.69387755  -4.28571429\n",
            "  -3.87755102  -3.46938776  -3.06122449  -2.65306122  -2.24489796\n",
            "  -1.83673469  -1.42857143  -1.02040816  -0.6122449   -0.20408163\n",
            "   0.20408163   0.6122449    1.02040816   1.42857143   1.83673469\n",
            "   2.24489796   2.65306122   3.06122449   3.46938776   3.87755102\n",
            "   4.28571429   4.69387755   5.10204082   5.51020408   5.91836735\n",
            "   6.32653061   6.73469388   7.14285714   7.55102041   7.95918367\n",
            "   8.36734694   8.7755102    9.18367347   9.59183673  10.        ]\n",
            "\n",
            "Сумма всех элементов: 7.105427357601002e-15\n",
            "\n",
            "Сумма положительных элементов:  127.55102040816328\n",
            "\n",
            "Сумма отрицательных элементов: -127.55102040816327\n"
          ]
        }
      ]
    },
    {
      "cell_type": "markdown",
      "source": [
        "**Практическое задание 5**\n",
        "\n",
        "Создайте:\n",
        "Единичную матрицу размером 4*4.\n",
        "Диагональную матрицу размером 4*4 с диагональными элементами [5, 10, 15, 20] (не использовать циклы).\n",
        "\n",
        " Найдите сумму всех элементов каждой из этих матриц и сравните результаты."
      ],
      "metadata": {
        "id": "AvbLw6mDNwKv"
      }
    },
    {
      "cell_type": "code",
      "source": [
        "import numpy as np\n",
        "identity_matrix = np.eye(4)\n",
        "print (\"Единичная матрица: \\n\", identity_matrix)\n",
        "diagonal_matrix = np.diag([5, 10, 15, 20])\n",
        "identity_sum = np.sum(identity_matrix)\n",
        "diagonal_sum = np.sum(diagonal_matrix)\n",
        "print(\"\\nСумма элементов единичной матрицы: \", identity_sum)\n",
        "print (\"Сумма элементов диагональной матрицы:\", diagonal_sum)\n",
        "if identity_sum > diagonal_sum:\n",
        "    print(\"\\nСумма элементов единичной матрицы больше. \")\n",
        "elif identity_sum < diagonal_sum:\n",
        "    print(\"\\nСумма элементов диагональной матрицы больше.\")\n",
        "else:\n",
        "    print(\"\\nСуммы элементов обеих матриц равны.\")"
      ],
      "metadata": {
        "colab": {
          "base_uri": "https://localhost:8080/"
        },
        "id": "gza1fr-ON2Nv",
        "outputId": "f24c045b-d8c1-4163-b77e-e59a5e740bba"
      },
      "execution_count": 49,
      "outputs": [
        {
          "output_type": "stream",
          "name": "stdout",
          "text": [
            "Единичная матрица: \n",
            " [[1. 0. 0. 0.]\n",
            " [0. 1. 0. 0.]\n",
            " [0. 0. 1. 0.]\n",
            " [0. 0. 0. 1.]]\n",
            "\n",
            "Сумма элементов единичной матрицы:  4.0\n",
            "Сумма элементов диагональной матрицы: 50\n",
            "\n",
            "Сумма элементов диагональной матрицы больше.\n"
          ]
        }
      ]
    },
    {
      "cell_type": "markdown",
      "source": [
        "**Практическое задание 6**\n",
        "\n",
        "Создайте две квадратные матрицы NumPy размером 3*3, заполненные случайными целыми числами от 1 до 20.\n",
        "\n",
        "Вычислите и выведите:\n",
        "1. Их сумму\n",
        "2. Их разность\n",
        "3. Их поэлементное произведение\n"
      ],
      "metadata": {
        "id": "AfE3SwU7OhmY"
      }
    },
    {
      "cell_type": "code",
      "source": [
        "import numpy as np\n",
        "np.random.seed(42)\n",
        "matrix1 = np.random.randint(1, 21, size=(3, 3))\n",
        "matrix2 = np.random.randint(1, 21, size=(3, 3))\n",
        "sum_matrix = matrix1 + matrix2\n",
        "print(\"\\nСумма матриц:\\n\", sum_matrix)\n",
        "difference_matrix = matrix1 - matrix2\n",
        "print(\"\\nРазность матриц:\\n\", difference_matrix)\n",
        "elementwise_product = matrix1 * matrix2\n",
        "print(\"\\nПоэлементное произведение матриц:\\n\", elementwise_product)"
      ],
      "metadata": {
        "colab": {
          "base_uri": "https://localhost:8080/"
        },
        "id": "EvhACuEtOtV5",
        "outputId": "ce09af14-4b27-4648-9e71-1ec8f8d3cc14"
      },
      "execution_count": 50,
      "outputs": [
        {
          "output_type": "stream",
          "name": "stdout",
          "text": [
            "\n",
            "Сумма матриц:\n",
            " [[11 28 18]\n",
            " [13 20 13]\n",
            " [21 12 23]]\n",
            "\n",
            "Разность матриц:\n",
            " [[ 3 12 12]\n",
            " [ 9 -4  1]\n",
            " [17 10 -1]]\n",
            "\n",
            "Поэлементное произведение матриц:\n",
            " [[ 28 160  45]\n",
            " [ 22  96  42]\n",
            " [ 38  11 132]]\n"
          ]
        }
      ]
    },
    {
      "cell_type": "markdown",
      "source": [
        "**Практическое задание 7**\n",
        "\n",
        "Создайте две матрицы NumPy:\n",
        "Первую размером 2*3, заполненную случайными числами от 1 до 10.\n",
        "Вторую размером 3*2, заполненную случайными числами от 1 до 10.\n",
        "\n",
        "Выполните матричное умножение (@ или np.dot ) и выведите результат.\n"
      ],
      "metadata": {
        "id": "yArR8mTNPaT2"
      }
    },
    {
      "cell_type": "code",
      "source": [
        "import numpy as np\n",
        "matrix1 = np.random.randint(1, 11, size=(2, 3))\n",
        "matrix2 = np.random.randint(1, 11, size=(3, 2))\n",
        "result_matrix = matrix1 @ matrix2\n",
        "print(\"\\nРезультат матричного умножения (2×2):\\n\", result_matrix)"
      ],
      "metadata": {
        "colab": {
          "base_uri": "https://localhost:8080/"
        },
        "id": "kYx-S9ZWPfOG",
        "outputId": "00f7aaec-6595-4fda-e5d2-99af93800d39"
      },
      "execution_count": 51,
      "outputs": [
        {
          "output_type": "stream",
          "name": "stdout",
          "text": [
            "\n",
            "Результат матричного умножения (2×2):\n",
            " [[169  85]\n",
            " [112  43]]\n"
          ]
        }
      ]
    },
    {
      "cell_type": "markdown",
      "source": [
        "**Практическое задание 8**\n",
        "\n",
        "Создайте случайную квадратную матрицу 3*3.\n",
        "\n",
        "Найдите и выведите:\n",
        "1. Определитель этой матрицы\n",
        "2. Обратную матрицу (если существует, иначе выведите сообщение, что матрица вырождена)\n",
        "3. Используйте функции np.linalg.det и np.linalg.inv.\n"
      ],
      "metadata": {
        "id": "33en0WleQAaX"
      }
    },
    {
      "cell_type": "code",
      "source": [
        "import numpy as np\n",
        "matrix = np. random. rand (3, 3)\n",
        "determinant = np.linalg.det(matrix)\n",
        "print (\"\\nOпределитель матрицы:\", determinant)\n",
        "if abs(determinant) > 1 * (10** -6):\n",
        "    inverse_matrix = np.linalg.inv(matrix)\n",
        "    print(\"\\nОбратная матрица:\\n\", inverse_matrix)\n",
        "else:\n",
        "    print(\"\\nМатрица вырождена (определитель равен 0), обратная матрица не существует.\")"
      ],
      "metadata": {
        "colab": {
          "base_uri": "https://localhost:8080/"
        },
        "id": "YxXcuI4sQHXn",
        "outputId": "6ef91f91-5888-4e2f-d8d3-a80bd6209f20"
      },
      "execution_count": 53,
      "outputs": [
        {
          "output_type": "stream",
          "name": "stdout",
          "text": [
            "\n",
            "Oпределитель матрицы: -0.12010547881697115\n",
            "\n",
            "Обратная матрица:\n",
            " [[-0.03196399 -1.89328575  1.78731483]\n",
            " [-0.84595953  4.05713658 -0.1659481 ]\n",
            " [ 1.84575336 -1.41770749 -1.34419836]]\n"
          ]
        }
      ]
    },
    {
      "cell_type": "markdown",
      "source": [
        "**Практическое задание 9**\n",
        "\n",
        "Создайте матрицу NumPy размером 4×4, содержащую случайные целые числа от 1 до 50.\n",
        "\n",
        "Выведите:\n",
        "1. Исходную матрицу\n",
        "2. Транспонированную матрицу\n",
        "3. След матрицы (сумму элементов на главной диагонали)\n",
        "4. Используйте np.trace для нахождения следа.\n"
      ],
      "metadata": {
        "id": "SoZhL1OZQqFQ"
      }
    },
    {
      "cell_type": "code",
      "source": [
        "import numpy as np\n",
        "matrix = np.random.randint(1, 51, size=(4, 4))\n",
        "transposed_matrix = matrix.T\n",
        "print(\"\\nТранспонированная матрица:\\n\", transposed_matrix)\n",
        "trace = np.trace(matrix)\n",
        "print(\"\\nСлед матрицы (сумма элементов на главной диагонали):\", trace)"
      ],
      "metadata": {
        "colab": {
          "base_uri": "https://localhost:8080/"
        },
        "id": "XhJenVldQyHw",
        "outputId": "5422f63b-db4c-47e2-d0af-14703d35edf6"
      },
      "execution_count": 55,
      "outputs": [
        {
          "output_type": "stream",
          "name": "stdout",
          "text": [
            "\n",
            "Транспонированная матрица:\n",
            " [[21 47 45 45]\n",
            " [16 24 41  1]\n",
            " [45 26 29 25]\n",
            " [18 25 15  7]]\n",
            "\n",
            "След матрицы (сумма элементов на главной диагонали): 81\n"
          ]
        }
      ]
    },
    {
      "cell_type": "markdown",
      "source": [
        "**Практическое задание 10**\n",
        "\n",
        "Решите систему линейных уравнений вида:\n",
        "2x + 3y - z = 5;\n",
        "4x - y + 2z = 6;\n",
        "-3x + 5y + 4z = -2\n",
        "Используйте матричное представление Ax = B , где A – матрица коэффициентов, x – вектор неизвестных, B – вектор правой части.\n",
        "Решите систему с помощью np.linalg.solve и выведите результат.\n"
      ],
      "metadata": {
        "id": "_qJtBpDsRiZp"
      }
    },
    {
      "cell_type": "code",
      "source": [
        "import numpy as np\n",
        "A = np.array([[2, 3, -1],\n",
        "              [4, -1, 2],\n",
        "              [-3, 5, 4]])\n",
        "B = np.array ([5, 6, -2])\n",
        "x = np.linalg.solve(A, B)\n",
        "print(\"Решение системы уравнений (х, у, z):\", x)"
      ],
      "metadata": {
        "colab": {
          "base_uri": "https://localhost:8080/"
        },
        "id": "azpTxsX1Rtyp",
        "outputId": "6cde9880-ec6b-4494-8667-baaebd75714d"
      },
      "execution_count": 56,
      "outputs": [
        {
          "output_type": "stream",
          "name": "stdout",
          "text": [
            "Решение системы уравнений (х, у, z): [1.63963964 0.57657658 0.00900901]\n"
          ]
        }
      ]
    },
    {
      "cell_type": "markdown",
      "source": [
        "**Индивидуальное задание**\n",
        "\n",
        "**Вариант 8**\n",
        "\n",
        "Решите индивидуальное задание согласно варианта. Каждое задание\n",
        "предусматривает построение системы линейных уравнений. Решите полученную систему уравнений с использованием библиотеки NumPy. Для решения системы используйте метод Крамера и матричный метод. Сравните полученные результаты, с результатами, полученными с помощью np.linalg.solve .\n",
        "\tПерераспределение бюджета. Городской бюджет распределяется между образованием, здравоохранением и транспортом. На здравоохранение\n",
        "выделяется в 1.5 раза больше, чем на транспорт, а на образование — на 20%\n",
        "больше, чем на здравоохранение. Всего в бюджете 5 000 000 рублей. Сколько\n",
        "денег выделено на каждую сферу?\n"
      ],
      "metadata": {
        "id": "PQx0xnNSTm9x"
      }
    },
    {
      "cell_type": "code",
      "source": [
        "import numpy as np\n",
        "\n",
        "A = np.array([\n",
        "    [-1.5, 1,   0],\n",
        "    [0,   -1.2, 1],\n",
        "    [1,    1,   1]\n",
        "])\n",
        "\n",
        "b = np.array([0, 0, 5_000_000])\n",
        "\n",
        "x_solve = np.linalg.solve(A, b)\n",
        "\n",
        "print(\"Решение с помощью np.linalg.solve:\")\n",
        "print(f\"Транспорт: {x_solve [0] :.2f}\")\n",
        "print(f\"Здравоохранение: {x_solve [1] :.2f}\")\n",
        "print(f\"Образование: {x_solve [2] :.2f}\")\n",
        "\n",
        "def det(matrix):\n",
        "    return np.linalg.det(matrix)\n",
        "\n",
        "D = det(A)\n",
        "\n",
        "D_x = det(np.column_stack((b, A[:,1], A[:,2])))\n",
        "D_y = det(np.column_stack((A[:,0], b, A[:,2])))\n",
        "D_z = det(np.column_stack((A[:,0], A[:,1], b)))\n",
        "\n",
        "x_cramer = D_x / D\n",
        "y_cramer = D_y / D\n",
        "z_cramer = D_z / D\n",
        "\n",
        "print(\"\\nРешение с помощью метода Крамера:\")\n",
        "print(f\"Транспорт: {x_cramer:.2f}\")\n",
        "print(f\"Здравоохранение: {y_cramer:.2f}\")\n",
        "print(f\"Образование: {z_cramer:.2f}\")\n",
        "\n",
        "# Матричный метод: x = A^{-1} * b\n",
        "A_inv = np.linalg.inv(A)\n",
        "x_matrix = A_inv.dot(b)\n",
        "\n",
        "print(\"\\nРешение с помощью матричного метода:\")\n",
        "print(f\"Транспорт: {x_matrix [0] :.2f}\")\n",
        "print(f\"Здравоохранение: {x_matrix [1] :.2f}\")\n",
        "print(f\"Образование: {x_matrix [2] :.2f}\")\n"
      ],
      "metadata": {
        "colab": {
          "base_uri": "https://localhost:8080/"
        },
        "id": "1B3NWncoT5UR",
        "outputId": "c85ee3c5-1a15-42f4-f562-434a974021a0"
      },
      "execution_count": 57,
      "outputs": [
        {
          "output_type": "stream",
          "name": "stdout",
          "text": [
            "Решение с помощью np.linalg.solve:\n",
            "Транспорт: 1162790.70\n",
            "Здравоохранение: 1744186.05\n",
            "Образование: 2093023.26\n",
            "\n",
            "Решение с помощью метода Крамера:\n",
            "Транспорт: 1162790.70\n",
            "Здравоохранение: 1744186.05\n",
            "Образование: 2093023.26\n",
            "\n",
            "Решение с помощью матричного метода:\n",
            "Транспорт: 1162790.70\n",
            "Здравоохранение: 1744186.05\n",
            "Образование: 2093023.26\n"
          ]
        }
      ]
    }
  ]
}